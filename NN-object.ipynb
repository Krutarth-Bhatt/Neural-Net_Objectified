{
 "cells": [
  {
   "cell_type": "markdown",
   "metadata": {},
   "source": [
    "# Importing Libraries::"
   ]
  },
  {
   "cell_type": "code",
   "execution_count": 6,
   "metadata": {},
   "outputs": [],
   "source": [
    "import numpy as np\n",
    "import pandas as pd\n",
    "import time\n",
    "import matplotlib.pyplot as plt\n",
    "import random"
   ]
  },
  {
   "cell_type": "markdown",
   "metadata": {},
   "source": [
    "# Importing Dataset::"
   ]
  },
  {
   "cell_type": "code",
   "execution_count": 7,
   "metadata": {},
   "outputs": [
    {
     "name": "stderr",
     "output_type": "stream",
     "text": [
      "/home/kuku/anaconda3/lib/python3.6/site-packages/ipykernel_launcher.py:2: FutureWarning: Method .as_matrix will be removed in a future version. Use .values instead.\n",
      "  \n"
     ]
    },
    {
     "name": "stdout",
     "output_type": "stream",
     "text": [
      "(784, 39000)\n",
      "(784, 3000)\n",
      "(1, 3000)\n"
     ]
    }
   ],
   "source": [
    "#File loading\n",
    "d = pd.read_csv('/home/kuku/Documents/train.csv').as_matrix()\n",
    "\n",
    "random.shuffle(d)\n",
    "\n",
    "#Training data::\n",
    "x_train = d[:39000,1:]\n",
    "x_train = np.array(x_train)\n",
    "x_train = x_train.T\n",
    "\n",
    "\"\"\"x_avg = np.sum(x_train, axis=0, keepdims=True)/786\n",
    "x_train = x_train.astype(float)\n",
    "x_train -= x_avg\n",
    "x_sig = x_train**2\n",
    "x_sig = np.sum(x_sig, axis=0, keepdims=True)/786\n",
    "x_train /= x_sig\"\"\"\n",
    "print(x_train.shape)\n",
    "\n",
    "y_train = d[:39000,0]\n",
    "y_train = np.array([y_train])\n",
    "#print(y_train.shape)\n",
    "\n",
    "#Testing data::\n",
    "x_test = d[39000:,1:]\n",
    "x_test = np.array(x_test)\n",
    "x_test = x_test.T\n",
    "\n",
    "\"\"\"x_avg = np.sum(x_test, axis=0, keepdims=True)/786\n",
    "x_test = x_test.astype(float)\n",
    "x_test -= x_avg\n",
    "x_sig = x_test**2\n",
    "x_sig = np.sum(x_sig, axis=0, keepdims=True)/786\n",
    "x_test /= x_sig\"\"\"\n",
    "print(x_test.shape)\n",
    "\n",
    "y_test = d[39000:,0]\n",
    "y_test = np.array([y_test])\n",
    "print(y_test.shape)\n"
   ]
  },
  {
   "cell_type": "markdown",
   "metadata": {},
   "source": [
    "# Class neuralnet::"
   ]
  },
  {
   "cell_type": "code",
   "execution_count": 8,
   "metadata": {},
   "outputs": [],
   "source": [
    "class neuralnet:\n",
    "    \n",
    "    # Intializing parameters::\n",
    "    def __init__(self, layer_dims):\n",
    "        self.para = {}\n",
    "        l = len(layer_dims)\n",
    "        for i in range(1,l):\n",
    "            self.para[\"w\"+str(i)] = np.random.randn(layer_dims[i],layer_dims[i-1]) * 0.01\n",
    "            self.para[\"b\"+str(i)] = np.zeros((layer_dims[i],1))\n",
    "    \n",
    "    \n",
    "    \n",
    "    #training::\n",
    "    def train(self, acti_type, epochs, alpha_o, batch_size, no_of_batches):\n",
    "        self.acti = {}\n",
    "        self.z = {}\n",
    "        tic = time.time()\n",
    "        jwb = []\n",
    "        itr = []\n",
    "        ctr = 1\n",
    "        for p in range(epochs):\n",
    "\n",
    "            alpha = (1/(1+(1*p)))*alpha_o\n",
    "            #alpha = (0.95**p)*alpha_o\n",
    "\n",
    "            for i in range(1,no_of_batches+1):\n",
    "\n",
    "                #Taking mini batches::\n",
    "                self.acti = {'a0' : x_train[:,((i-1)*1000):(i*1000)]}\n",
    "                y_mini = np.array(y_train[:,((i-1)*1000):(i*1000)])\n",
    "\n",
    "\n",
    "                # for prop::\n",
    "                l = len(acti_type)\n",
    "                for j in range(1,l+1):\n",
    "                    self.z['z'+str(j)] = np.dot(self.para['w'+str(j)],self.acti['a'+str(j-1)]) + self.para['b'+str(j)]\n",
    "                    #activate::\n",
    "                    if acti_type[j-1]== \"tanh\":\n",
    "                        self.acti['a'+str(j)] = tanh(self.z[\"z\"+str(j)])\n",
    "                    elif acti_type[j-1]== \"softmax\":\n",
    "                        self.acti['a'+str(j)] = self.softmax(self.z[\"z\"+str(j)])\n",
    "                    elif acti_type[j-1]== \"relu\":\n",
    "                        self.acti['a'+str(j)] = self.relu(self.z[\"z\"+str(j)])\n",
    "                    elif acti_type[j-1]== \"sigmoid\":\n",
    "                        self.acti['a'+str(j)] = self.sigmoid(self.z[\"z\"+str(j)])\n",
    "\n",
    "                    \"\"\"#Normalizing ::\n",
    "                    if(j!=l):\n",
    "                        acti_avg = np.sum(acti['a'+str(j)], axis=0, keepdims=True)/acti['a'+str(j)].shape[0]\n",
    "                        acti['a'+str(j)] -= acti_avg\n",
    "                        acti_sig = acti['a'+str(j)]**2\n",
    "                        acti_sig = np.sum(acti_sig , axis=0, keepdims=True)/acti['a'+str(j)].shape[0]\n",
    "                        acti['a'+str(j)] /= acti_sig\"\"\"\n",
    "\n",
    "                    #self.acti['a'+str(j)] = self.dropout(self.acti['a'+str(j)], 0.8)\n",
    "\n",
    "                #calculating Cost Function::    \n",
    "                lost = np.array(self.acti['a'+str(l)] + 0.01)\n",
    "                lost = np.log(lost)\n",
    "                li = 0\n",
    "                for i in range(batch_size):\n",
    "                    li += -lost[y_mini[0,i],i]\n",
    "                jwb.append(li/batch_size)\n",
    "                itr.append(ctr)\n",
    "                ctr+=1\n",
    "\n",
    "                #back prop for last layer:: \n",
    "                dz ={}\n",
    "                dz[str(l)] = self.acti['a'+str(l)]\n",
    "                for k in range(batch_size):\n",
    "                    dz[str(l)][y_mini[0,k],k] -= 1\n",
    "                dw = np.dot(dz[str(l)], self.acti['a'+str(l-1)].T)/batch_size\n",
    "                db = np.sum(dz[str(l)], axis=1, keepdims = True)/batch_size\n",
    "                self.para['w'+str(l)] = self.para['w'+str(l)] - (alpha*dw)\n",
    "                self.para['b'+str(l)] = self.para['b'+str(l)] - (alpha*db)\n",
    "\n",
    "                #back prop for other layers::\n",
    "                for k in range(l-1,0,-1):\n",
    "                    if acti_type[k-1]=='tanh': g = self.tanh(self.z['z'+str(k)],True)\n",
    "                    elif acti_type[k-1]=='relu': g = self.relu(self.z['z'+str(k)],True)\n",
    "                    elif acti_type[k-1]=='sigmoid': g = self.sigmoid(self.z['z'+str(k)],True)\n",
    "                    #calculating Derivatives::\n",
    "\n",
    "                    dz[str(k)] = (np.dot(self.para['w'+str(k+1)].T, dz[str(k+1)]) * g)  #KUKU_ERROR\n",
    "\n",
    "                    dw1 = np.dot(dz[str(k)], self.acti['a'+str(k-1)].T)/batch_size   #KUKU_ERROR\n",
    "                    db1 = np.sum(dz[str(k)], axis=1, keepdims = True)/batch_size\n",
    "                    #Gradient dececnt::\n",
    "                    self.para['w'+str(k)] = self.para['w'+str(k)] - (alpha*dw1)\n",
    "                    self.para['b'+str(k)] = self.para['b'+str(k)] - (alpha*db1)\n",
    "        toc = time.time()\n",
    "        print(\"training time: \"+str((toc-tic)/60)+\" min\")\n",
    "\n",
    "        # Plotting::\n",
    "        #print(jwb)\n",
    "        #plt.xlim(xmax = 390)\n",
    "        #plt.xlim(xmin = 1)\n",
    "        plt.figure(figsize=(18, 9))\n",
    "        plt.xlabel(\"ith iteration\", fontsize=22)\n",
    "        plt.ylabel(\"Cost\", fontsize=22)\n",
    "        plt.plot(itr, jwb, \"ro\")\n",
    "        plt.plot(itr, jwb)\n",
    "        \n",
    "    \n",
    "    \n",
    "    \n",
    "    #testing::            \n",
    "    def test(self, acti_type, test_no):\n",
    "        accuracy_score = 0\n",
    "        for i in range(test_no):\n",
    "            l = len(acti_type)\n",
    "            x = x_test[:,i]\n",
    "            x = np.array([x])\n",
    "            z_test = {}\n",
    "            acti_test = { 'a0':x}\n",
    "            for j in range(1,l+1):\n",
    "                z_test['z'+str(j)] = np.dot(acti_test['a'+str(j-1)], self.para['w'+str(j)].T) + self.para['b'+str(j)].T\n",
    "                #activate::\n",
    "                if acti_type[j-1]== \"tanh\":\n",
    "                    acti_test['a'+str(j)] = self.tanh(z_test[\"z\"+str(j)])\n",
    "                elif acti_type[j-1]== \"softmax\":\n",
    "                    acti_test['a'+str(j)] = self.softmax_test(z_test[\"z\"+str(j)])\n",
    "                elif acti_type[j-1]== \"relu\":\n",
    "                    acti_test['a'+str(j)] = self.relu(z_test[\"z\"+str(j)])\n",
    "                elif acti_type[j-1]== \"sigmoid\":\n",
    "                    acti_test['a'+str(j)] = self.sigmoid(z_test[\"z\"+str(j)]) \n",
    "            q = -1\n",
    "            ans=0\n",
    "            for j in range(10):\n",
    "                #print(acti_test['a'+str(l)][0,j])\n",
    "                if q < acti_test['a'+str(l)][0,j]: \n",
    "                    q = acti_test['a'+str(l)][0,j]\n",
    "                    ans=j\n",
    "            if ans==y_test[0,i]: accuracy_score+=1\n",
    "            #print(ans)    \n",
    "            #plt.imshow(x.reshape(28,28), 'gray')    \n",
    "\n",
    "        print(\"Accuracy: \"+str((accuracy_score/test_no)*100)+\" %\")\n",
    "        print(1000-accuracy_score)\n",
    "        \n",
    "    \n",
    "    \n",
    "    # Dropout regularization::\n",
    "    def dropout(self, activation, keep_prob):\n",
    "        do = np.random.rand(activation.shape[0], activation.shape[1]) < keep_prob\n",
    "        activation *= do\n",
    "        activation /= keep_prob\n",
    "        return activation\n",
    "    \n",
    "    \n",
    "    #Activation Functions::\n",
    "    def tanh(self, x, derivative=False):\n",
    "        if (derivative == True):\n",
    "            return (1 - (x ** 2))\n",
    "        return 1.7159 * np.tanh(x*0.6666)\n",
    "    \n",
    "    \n",
    "    def softmax(self, x):\n",
    "        \"\"\"Compute softmax values for each sets of scores in x.\"\"\"\n",
    "        e_x = np.exp(x - x.max(0))\n",
    "        #print(e_x.shape)\n",
    "        e_x_sum = np.sum(e_x, axis=0, keepdims=True)\n",
    "        #print(e_x_sum.shape)\n",
    "        return np.divide(e_x, e_x_sum)\n",
    "\n",
    "\n",
    "\n",
    "    def softmax_test(self, x):\n",
    "        \"\"\"Compute softmax values for each sets of scores in x.\"\"\"\n",
    "        e_x = np.exp(x - x.max())\n",
    "        #print(e_x.shape)\n",
    "        e_x_sum = np.sum(e_x, axis=1, keepdims=True)\n",
    "        #print(e_x_sum.shape)\n",
    "        return np.divide(e_x, e_x_sum)\n",
    "\n",
    "\n",
    "\n",
    "    def relu(self, x, derivative=False):\n",
    "        if (derivative == True):\n",
    "            for i in range(0, len(x)):\n",
    "                for k in range(len(x[i])):\n",
    "                    if x[i][k] > 0:\n",
    "                        x[i][k] = 1\n",
    "                    else:\n",
    "                        x[i][k] = 0\n",
    "            return x\n",
    "        for i in range(0, len(x)):\n",
    "            for k in range(0, len(x[i])):\n",
    "                if x[i][k] > 0:\n",
    "                    pass  # do nothing since it would be effectively replacing x with x\n",
    "                else:\n",
    "                    x[i][k] = 0\n",
    "        return x\n",
    "\n",
    "\n",
    "\n",
    "    def sigmoid(self, x, derivative=False):\n",
    "        if (derivative == True):\n",
    "            return x * (1 - x)\n",
    "        return 1 / (1 + np.exp(-x))    \n",
    "        \n",
    "        \n",
    "        \n",
    "    "
   ]
  },
  {
   "cell_type": "markdown",
   "metadata": {},
   "source": [
    "# Creating and using the objects of class neuralnet::"
   ]
  },
  {
   "cell_type": "code",
   "execution_count": 9,
   "metadata": {},
   "outputs": [
    {
     "data": {
      "text/plain": [
       "'acti_type = [\"softmax\"]\\nnet1.train(acti_type, 50, 0.006, 1000, 39)\\nnet1.test(acti_type, 1000)'"
      ]
     },
     "execution_count": 9,
     "metadata": {},
     "output_type": "execute_result"
    }
   ],
   "source": [
    "net1 = neuralnet([784, 10])\n",
    "\n",
    "\n",
    "\"\"\"acti_type = [\"softmax\"]\n",
    "net1.train(acti_type, 50, 0.006, 1000, 39)\n",
    "net1.test(acti_type, 1000)\"\"\""
   ]
  },
  {
   "cell_type": "code",
   "execution_count": 10,
   "metadata": {},
   "outputs": [
    {
     "name": "stdout",
     "output_type": "stream",
     "text": [
      "training time: 0.036445740858713785 min\n",
      "Accuracy: 92.30000000000001 %\n",
      "77\n"
     ]
    },
    {
     "data": {
      "image/png": "[encoded data removed]",
      "text/plain": [
       "<Figure size 1296x648 with 1 Axes>"
      ]
     },
     "metadata": {},
     "output_type": "display_data"
    }
   ],
   "source": [
    "acti_type = [\"softmax\"]\n",
    "net1.train(acti_type, 10, 0.006, 1000, 39)\n",
    "net1.test(acti_type, 1000)"
   ]
  },
  {
   "cell_type": "code",
   "execution_count": null,
   "metadata": {},
   "outputs": [],
   "source": []
  }
 ],
 "metadata": {
  "kernelspec": {
   "display_name": "Python 3",
   "language": "python",
   "name": "python3"
  },
  "language_info": {
   "codemirror_mode": {
    "name": "ipython",
    "version": 3
   },
   "file_extension": ".py",
   "mimetype": "text/x-python",
   "name": "python",
   "nbconvert_exporter": "python",
   "pygments_lexer": "ipython3",
   "version": "3.6.5"
  }
 },
 "nbformat": 4,
 "nbformat_minor": 2
}
